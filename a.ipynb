{
 "cells": [
  {
   "cell_type": "code",
   "execution_count": 13,
   "metadata": {},
   "outputs": [],
   "source": [
    "from azure.kusto.data import KustoClient, KustoConnectionStringBuilder, DataFormat, ClientRequestProperties\n",
    "from azure.kusto.data.exceptions import KustoServiceError\n",
    "from azure.kusto.data.helpers import dataframe_from_result_table\n",
    "from azure.kusto.ingest import QueuedIngestClient, IngestionProperties, FileDescriptor, BlobDescriptor, ReportLevel, ReportMethod\n",
    "import pandas as pd"
   ]
  },
  {
   "cell_type": "code",
   "execution_count": 14,
   "metadata": {},
   "outputs": [],
   "source": [
    "AAD_TENANT_ID = \"f01e930a-b52e-42b1-b70f-a8882b5d043b\"\n",
    "KUSTO_URI = \"https://utopadx.southeastasia.kusto.windows.net/\"\n",
    "KUSTO_INGEST_URI = \"https://ingest-utopadx.southeastasia.kusto.windows.net/\"\n",
    "KUSTO_DATABASE = \"utopAnalytics\""
   ]
  },
  {
   "cell_type": "code",
   "execution_count": 15,
   "metadata": {},
   "outputs": [],
   "source": [
    "KCSB_INGEST = KustoConnectionStringBuilder.with_aad_device_authentication(\n",
    "    KUSTO_INGEST_URI, AAD_TENANT_ID)\n",
    "\n",
    "KCSB_DATA = KustoConnectionStringBuilder.with_aad_device_authentication(\n",
    "    KUSTO_URI, AAD_TENANT_ID)"
   ]
  },
  {
   "cell_type": "code",
   "execution_count": 16,
   "metadata": {},
   "outputs": [],
   "source": [
    "import pyodbc\n",
    "import pandas as pd\n",
    "\n",
    "server = 'tcp:utop-operation-server-pro.database.windows.net'\n",
    "database = 'utop-operation-db-pro'\n",
    "username = 'hanhtv13'\n",
    "password = '1LU5GXLqh9zH'\n",
    "\n",
    "cnxn = pyodbc.connect('DRIVER={SQL Server};SERVER='+server+';PORT=1433;DATABASE='+database+';UID='+username+';PWD='+ password)"
   ]
  },
  {
   "cell_type": "code",
   "execution_count": 17,
   "metadata": {},
   "outputs": [],
   "source": [
    "df = pd.read_sql_query(\"SELECT * FROM [dbo].[UserTransaction] WHERE MONTH(CreatedAt) = 1\", cnxn)"
   ]
  },
  {
   "cell_type": "code",
   "execution_count": 20,
   "metadata": {},
   "outputs": [
    {
     "name": "stdout",
     "output_type": "stream",
     "text": [
      "(352591, 15)\n"
     ]
    }
   ],
   "source": [
    "print(df.shape)"
   ]
  },
  {
   "cell_type": "code",
   "execution_count": 22,
   "metadata": {},
   "outputs": [
    {
     "name": "stderr",
     "output_type": "stream",
     "text": [
      "C:\\Users\\HOME\\AppData\\Local\\Programs\\Python\\Python39\\lib\\site-packages\\pandas\\io\\sql.py:761: UserWarning: pandas only support SQLAlchemy connectable(engine/connection) ordatabase string URI or sqlite3 DBAPI2 connectionother DBAPI2 objects are not tested, please consider using SQLAlchemy\n",
      "  warnings.warn(\n"
     ]
    }
   ],
   "source": [
    "df2 = pd.read_sql_query(\"SELECT * FROM [dbo].[UserTransaction] WHERE MONTH(CreatedAt) = 2\", cnxn)"
   ]
  },
  {
   "cell_type": "code",
   "execution_count": 23,
   "metadata": {},
   "outputs": [
    {
     "name": "stdout",
     "output_type": "stream",
     "text": [
      "(264205, 15)\n"
     ]
    }
   ],
   "source": [
    "print(df2.shape)"
   ]
  },
  {
   "cell_type": "code",
   "execution_count": 24,
   "metadata": {},
   "outputs": [
    {
     "name": "stderr",
     "output_type": "stream",
     "text": [
      "C:\\Users\\HOME\\AppData\\Local\\Programs\\Python\\Python39\\lib\\site-packages\\pandas\\io\\sql.py:761: UserWarning: pandas only support SQLAlchemy connectable(engine/connection) ordatabase string URI or sqlite3 DBAPI2 connectionother DBAPI2 objects are not tested, please consider using SQLAlchemy\n",
      "  warnings.warn(\n"
     ]
    },
    {
     "name": "stdout",
     "output_type": "stream",
     "text": [
      "(460953, 15)\n"
     ]
    }
   ],
   "source": [
    "df3 = pd.read_sql_query(\"SELECT * FROM [dbo].[UserTransaction] WHERE MONTH(CreatedAt) = 3\", cnxn)\n",
    "print(df3.shape)"
   ]
  },
  {
   "cell_type": "code",
   "execution_count": 25,
   "metadata": {},
   "outputs": [
    {
     "name": "stderr",
     "output_type": "stream",
     "text": [
      "C:\\Users\\HOME\\AppData\\Local\\Programs\\Python\\Python39\\lib\\site-packages\\pandas\\io\\sql.py:761: UserWarning: pandas only support SQLAlchemy connectable(engine/connection) ordatabase string URI or sqlite3 DBAPI2 connectionother DBAPI2 objects are not tested, please consider using SQLAlchemy\n",
      "  warnings.warn(\n"
     ]
    },
    {
     "name": "stdout",
     "output_type": "stream",
     "text": [
      "(611586, 15)\n"
     ]
    }
   ],
   "source": [
    "df4 = pd.read_sql_query(\"SELECT * FROM [dbo].[UserTransaction] WHERE MONTH(CreatedAt) = 4\", cnxn)\n",
    "print(df4.shape)"
   ]
  },
  {
   "cell_type": "code",
   "execution_count": 26,
   "metadata": {},
   "outputs": [
    {
     "name": "stderr",
     "output_type": "stream",
     "text": [
      "C:\\Users\\HOME\\AppData\\Local\\Programs\\Python\\Python39\\lib\\site-packages\\pandas\\io\\sql.py:761: UserWarning: pandas only support SQLAlchemy connectable(engine/connection) ordatabase string URI or sqlite3 DBAPI2 connectionother DBAPI2 objects are not tested, please consider using SQLAlchemy\n",
      "  warnings.warn(\n"
     ]
    },
    {
     "name": "stdout",
     "output_type": "stream",
     "text": [
      "(634854, 15)\n"
     ]
    }
   ],
   "source": [
    "df5 = pd.read_sql_query(\"SELECT * FROM [dbo].[UserTransaction] WHERE MONTH(CreatedAt) = 5\", cnxn)\n",
    "print(df5.shape)"
   ]
  },
  {
   "cell_type": "code",
   "execution_count": null,
   "metadata": {},
   "outputs": [],
   "source": [
    "INGESTION_CLIENT = QueuedIngestClient(KCSB_INGEST)\n",
    "\n",
    "INGESTION_PROPERTIES = IngestionProperties(database=\"utopAnalytics\", table=\"sql_dbo_UserTransaction\", data_format=DataFormat.CSV)\n",
    "            \n",
    "INGESTION_CLIENT.ingest_from_dataframe(df, INGESTION_PROPERTIES)\n"
   ]
  }
 ],
 "metadata": {
  "interpreter": {
   "hash": "7dea30b6c03ab7e134c0e74006a546b873dc5838ff7024ff5edf21dbf1fb34a3"
  },
  "kernelspec": {
   "display_name": "Python 3.9.5 64-bit",
   "language": "python",
   "name": "python3"
  },
  "language_info": {
   "codemirror_mode": {
    "name": "ipython",
    "version": 3
   },
   "file_extension": ".py",
   "mimetype": "text/x-python",
   "name": "python",
   "nbconvert_exporter": "python",
   "pygments_lexer": "ipython3",
   "version": "3.9.5"
  },
  "orig_nbformat": 4
 },
 "nbformat": 4,
 "nbformat_minor": 2
}
